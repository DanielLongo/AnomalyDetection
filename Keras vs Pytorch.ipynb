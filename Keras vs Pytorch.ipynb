{
 "cells": [
  {
   "cell_type": "markdown",
   "metadata": {},
   "source": [
    "### Debug"
   ]
  },
  {
   "cell_type": "code",
   "execution_count": 166,
   "metadata": {},
   "outputs": [],
   "source": [
    "%matplotlib inline\n",
    "import matplotlib.pyplot as plt"
   ]
  },
  {
   "cell_type": "code",
   "execution_count": 167,
   "metadata": {},
   "outputs": [],
   "source": [
    "from pylab import rcParams\n",
    "rcParams['figure.figsize'] = 20, 5"
   ]
  },
  {
   "cell_type": "code",
   "execution_count": 168,
   "metadata": {},
   "outputs": [],
   "source": [
    "import numpy as np\n",
    "import random\n",
    "from dynaconf import settings"
   ]
  },
  {
   "cell_type": "code",
   "execution_count": 285,
   "metadata": {},
   "outputs": [
    {
     "data": {
      "text/plain": [
       "<torch._C.Generator at 0x7f945ff522a0>"
      ]
     },
     "execution_count": 285,
     "metadata": {},
     "output_type": "execute_result"
    }
   ],
   "source": [
    "torch.manual_seed(1)"
   ]
  },
  {
   "cell_type": "markdown",
   "metadata": {},
   "source": [
    "##### Synthetic Data"
   ]
  },
  {
   "cell_type": "code",
   "execution_count": 169,
   "metadata": {},
   "outputs": [],
   "source": [
    "def get_sin_wave(length, freq):\n",
    "    t = np.arange(length)\n",
    "    x = np.sin(2*np.pi * (1/freq) * t)\n",
    "    return x"
   ]
  },
  {
   "cell_type": "code",
   "execution_count": 170,
   "metadata": {},
   "outputs": [],
   "source": [
    "X_train = []\n",
    "y_train = []\n",
    "for i in range(300):\n",
    "    example = (get_sin_wave(length=260, freq=random.randint(32, 64)).reshape(1, -1) + 2)/2\n",
    "#     example = example.T\n",
    "    start = 0\n",
    "    end = start + 250\n",
    "    pred_end = end + 10\n",
    "    X_train.append(example[:, start:end])\n",
    "    y_train.append(example[:, end:pred_end])"
   ]
  },
  {
   "cell_type": "code",
   "execution_count": 171,
   "metadata": {},
   "outputs": [],
   "source": [
    "X_train = np.asarray(X_train)\n",
    "y_train = np.asarray(y_train)"
   ]
  },
  {
   "cell_type": "markdown",
   "metadata": {},
   "source": [
    "##### Real Data"
   ]
  },
  {
   "cell_type": "code",
   "execution_count": 639,
   "metadata": {
    "scrolled": true
   },
   "outputs": [
    {
     "name": "stdout",
     "output_type": "stream",
     "text": [
      "Found 2765 recordings\n",
      "By set limit only using 200 recordings\n",
      "Removing recordings of insufficient length...\n",
      "Removed 4 of 200 recordings. There are now 196 recordings.\n"
     ]
    }
   ],
   "source": [
    "train_dataset_csv = settings.TRAIN_DATASET_CSV\n",
    "real_train_dataset = EEGDataset(train_dataset_csv, 5000, [1], max_num_examples=200, transform=normalize)\n",
    "\n",
    "X_real_train = []\n",
    "y_real_train = []\n",
    "for i in range(len(real_train_dataset)):\n",
    "    for j in range(3):\n",
    "        example = real_train_dataset[i].numpy()\n",
    "        start = random.randint(0, 4700)\n",
    "        end = start + 250\n",
    "        pred_end = end + 10\n",
    "        X_real_train.append(example[:, start:end])\n",
    "        y_real_train.append(example[:, end:pred_end])"
   ]
  },
  {
   "cell_type": "code",
   "execution_count": 640,
   "metadata": {
    "scrolled": true
   },
   "outputs": [
    {
     "name": "stdout",
     "output_type": "stream",
     "text": [
      "Found 345 recordings\n",
      "By set limit only using 344 recordings\n",
      "Removing recordings of insufficient length...\n",
      "Removed 13 of 344 recordings. There are now 331 recordings.\n"
     ]
    }
   ],
   "source": [
    "dev_dataset_csv = settings.DEV_DATASET_CSV\n",
    "real_eval_dataset = EEGDataset(dev_dataset_csv, 5000, [1], max_num_examples=-1, transform=normalize)\n",
    "\n",
    "X_real_eval = []\n",
    "y_real_eval = []\n",
    "for i in range(len(real_eval_dataset)):\n",
    "    for j in range(3):\n",
    "        example = real_eval_dataset[i].numpy()\n",
    "        start = random.randint(0, 4700)\n",
    "        end = start + 250\n",
    "        pred_end = end + 10\n",
    "        X_real_eval.append(example[:, start:end])\n",
    "        y_real_eval.append(example[:, end:pred_end])"
   ]
  },
  {
   "cell_type": "code",
   "execution_count": 641,
   "metadata": {},
   "outputs": [],
   "source": [
    "X_train = np.asarray(X_real_train)\n",
    "y_train = np.asarray(y_real_train)\n",
    "X_eval = np.asarray(X_real_eval)\n",
    "y_eval = np.asarray(y_real_eval)"
   ]
  },
  {
   "cell_type": "markdown",
   "metadata": {},
   "source": [
    "#### Pytorch Model"
   ]
  },
  {
   "cell_type": "code",
   "execution_count": 642,
   "metadata": {},
   "outputs": [],
   "source": [
    "import torch\n",
    "import torch.nn as nn\n",
    "from torch.autograd import Variable"
   ]
  },
  {
   "cell_type": "markdown",
   "metadata": {},
   "source": [
    "limit = sqrt(6 / (fan_in + fan_out)) (fan_in is the number of input units in the weight tensor and fan_out is the number of output units)."
   ]
  },
  {
   "cell_type": "code",
   "execution_count": 732,
   "metadata": {},
   "outputs": [],
   "source": [
    "class TorchLSTM(nn.Module):\n",
    "    def __init__(self, input_size=1, hidden_layer_size=80, num_layers=2, output_size=1, n_predictions=10, dropout=.3):\n",
    "        super().__init__()\n",
    "        self.output_size = output_size\n",
    "        self.n_predictions = n_predictions\n",
    "        self.lstm = nn.LSTM(input_size, hidden_layer_size, num_layers=num_layers, dropout=dropout, batch_first=True)\n",
    "        self.fc1 = nn.Linear(hidden_layer_size, n_predictions * output_size)\n",
    "        \n",
    "        self.lstm.reset_parameters = self.reset_parameters\n",
    "        self.lstm.reset_parameters()\n",
    "\n",
    "\n",
    "    def forward(self, input_seq):\n",
    "        out, (_, _) = self.lstm(input_seq)\n",
    "        preds = self.fc1(out[:,-1].squeeze()).squeeze()\n",
    "        return preds\n",
    "    \n",
    "    def reset_parameters(self):\n",
    "\n",
    "        for name, param in self.named_parameters():\n",
    "            if \"weight_hh\" in name:\n",
    "                # recurrent weight \n",
    "                torch.nn.init.orthogonal_(param)\n",
    "                \n",
    "            elif \"weight_ih\" in name:\n",
    "                # kernel weight \n",
    "                # glorot initialization\n",
    "                torch.nn.init.xavier_uniform_(param)\n",
    "            \n",
    "            elif \"bias\" in name:\n",
    "                torch.nn.init.zeros_(param)\n",
    "                    \n",
    "#     def reset_parameters(self) -> None:\n",
    "#         for param in self.parameters():\n",
    "#             shape = param.shape \n",
    "#             if len(shape) == 2:\n",
    "#                 # it's a recurrent weight\n",
    "#                 torch.nn.init.orthogonal(param)\n",
    "\n",
    "#             elif len(shape) == 1:\n",
    "#                 # it's a bias\n",
    "#                 torch.nn.init.zeros_(param)\n",
    "                \n",
    "#             else:\n",
    "#                 print(\"Suspect Weight shape found\", shape)\n",
    "                "
   ]
  },
  {
   "cell_type": "code",
   "execution_count": 727,
   "metadata": {},
   "outputs": [],
   "source": [
    "model = TorchLSTM()"
   ]
  },
  {
   "cell_type": "markdown",
   "metadata": {},
   "source": [
    "things to check\n",
    "- initialization \n",
    "- check outputs vs keras"
   ]
  },
  {
   "cell_type": "code",
   "execution_count": 728,
   "metadata": {},
   "outputs": [],
   "source": [
    "from torch.utils.data import TensorDataset, DataLoader"
   ]
  },
  {
   "cell_type": "code",
   "execution_count": 729,
   "metadata": {},
   "outputs": [],
   "source": [
    "train_dataset = TensorDataset(torch.Tensor(X_train), torch.Tensor(y_train))\n",
    "train_loader = DataLoader(train_dataset, batch_size=64, shuffle=True)\n",
    "\n",
    "eval_dataset = TensorDataset(torch.Tensor(X_eval), torch.Tensor(y_eval))\n",
    "eval_loader = DataLoader(eval_dataset, batch_size=64, shuffle=True)"
   ]
  },
  {
   "cell_type": "code",
   "execution_count": 730,
   "metadata": {},
   "outputs": [],
   "source": [
    "def train_model(num_epochs):\n",
    "    torch_model.train()\n",
    "    running_losses = []\n",
    "    for epoch in range(num_epochs):\n",
    "        for i, (x, y) in enumerate(train_loader):\n",
    "            x, y = x.cuda(), y.cuda()\n",
    "            optimizer.zero_grad()\n",
    "            a = torch_model(x.transpose(1,2))\n",
    "            loss = criteron(a.squeeze(), y.squeeze())\n",
    "            loss.backward()\n",
    "            optimizer.step()\n",
    "            \n",
    "            running_losses.append(loss.item())\n",
    "            if i % 50 == 0:\n",
    "                eval_losses = eval_model()\n",
    "                eval_losses_avg = sum(eval_losses) / len(eval_losses)\n",
    "                running_losses_avg = sum(running_losses)/len(running_losses)\n",
    "                cur_iter = len(train_loader) * epoch + i\n",
    "                print(f\"epoch {epoch} | iter {cur_iter} | Running Loss {running_losses_avg} | Eval Loss {eval_losses_avg}\")\n",
    "                running_losses.clear()\n",
    "                \n",
    "def eval_model():\n",
    "    torch_model.eval()\n",
    "    running_losses = []\n",
    "    for i, (x, y) in enumerate(eval_loader):\n",
    "        with torch.no_grad():\n",
    "            x, y = x.cuda(), y.cuda()\n",
    "            a = torch_model(x.transpose(1,2))\n",
    "            loss = criteron(a.squeeze(), y.squeeze())\n",
    "            running_losses.append(loss.item())\n",
    "    torch_model.train()\n",
    "    return running_losses"
   ]
  },
  {
   "cell_type": "code",
   "execution_count": 731,
   "metadata": {},
   "outputs": [],
   "source": [
    "torch_model = TorchLSTM(n_predictions=10, hidden_layer_size=80, num_layers=2)\n",
    "torch_model.cuda()\n",
    "criteron = nn.MSELoss()\n",
    "optimizer = torch.optim.Adam(torch_model.parameters(), lr=.01)"
   ]
  },
  {
   "cell_type": "code",
   "execution_count": 649,
   "metadata": {
    "scrolled": true
   },
   "outputs": [
    {
     "name": "stdout",
     "output_type": "stream",
     "text": [
      "epoch 0 | iter 0 | Running Loss 0.23753511905670166 | Eval Loss 0.13692447217181325\n",
      "epoch 1 | iter 10 | Running Loss 0.07114486247301102 | Eval Loss 0.04465240053832531\n",
      "epoch 2 | iter 20 | Running Loss 0.03737402074038983 | Eval Loss 0.01023524219635874\n",
      "epoch 3 | iter 30 | Running Loss 0.012002526223659516 | Eval Loss 0.0056827308144420385\n",
      "epoch 4 | iter 40 | Running Loss 0.0064967994578182696 | Eval Loss 0.005148782089236192\n",
      "epoch 5 | iter 50 | Running Loss 0.006002520024776459 | Eval Loss 0.005981861802865751\n",
      "epoch 6 | iter 60 | Running Loss 0.005642062169499695 | Eval Loss 0.004707397092715837\n",
      "epoch 7 | iter 70 | Running Loss 0.0059342732885852454 | Eval Loss 0.004630093084415421\n",
      "epoch 8 | iter 80 | Running Loss 0.005289773363620043 | Eval Loss 0.004635642035282217\n",
      "epoch 9 | iter 90 | Running Loss 0.0045886763604357835 | Eval Loss 0.004425622362759896\n",
      "epoch 10 | iter 100 | Running Loss 0.005008901213295757 | Eval Loss 0.004684951883973554\n",
      "epoch 11 | iter 110 | Running Loss 0.004916502372361719 | Eval Loss 0.004735481648822315\n",
      "epoch 12 | iter 120 | Running Loss 0.00595491558779031 | Eval Loss 0.005798426645924337\n",
      "epoch 13 | iter 130 | Running Loss 0.005845655407756567 | Eval Loss 0.005021783465053886\n",
      "epoch 14 | iter 140 | Running Loss 0.005077481223270297 | Eval Loss 0.005943467243923806\n",
      "epoch 15 | iter 150 | Running Loss 0.005660111107863486 | Eval Loss 0.004779165334184654\n",
      "epoch 16 | iter 160 | Running Loss 0.006061871163547039 | Eval Loss 0.005305737431626767\n",
      "epoch 17 | iter 170 | Running Loss 0.006367185129784047 | Eval Loss 0.0059845443174708635\n",
      "epoch 18 | iter 180 | Running Loss 0.004847611743025481 | Eval Loss 0.004535381987807341\n",
      "epoch 19 | iter 190 | Running Loss 0.005428024427965283 | Eval Loss 0.00467784127977211\n",
      "epoch 20 | iter 200 | Running Loss 0.004659293708391488 | Eval Loss 0.004952711606165394\n",
      "epoch 21 | iter 210 | Running Loss 0.005844091903418303 | Eval Loss 0.004534551466349512\n",
      "epoch 22 | iter 220 | Running Loss 0.0046953244367614385 | Eval Loss 0.005496953759575263\n",
      "epoch 23 | iter 230 | Running Loss 0.00507168413605541 | Eval Loss 0.004379382720799185\n",
      "epoch 24 | iter 240 | Running Loss 0.004846990690566599 | Eval Loss 0.004711503308499232\n"
     ]
    }
   ],
   "source": [
    "train_model(25)"
   ]
  },
  {
   "cell_type": "code",
   "execution_count": 442,
   "metadata": {},
   "outputs": [],
   "source": [
    "torch.save(torch_model.cpu().state_dict(), \"./models/saved_models/lstmWIIv01.pt\")"
   ]
  },
  {
   "cell_type": "code",
   "execution_count": 672,
   "metadata": {},
   "outputs": [
    {
     "data": {
      "text/plain": [
       "[<matplotlib.lines.Line2D at 0x7f920ddff7b8>]"
      ]
     },
     "execution_count": 672,
     "metadata": {},
     "output_type": "execute_result"
    },
    {
     "data": {
      "image/png": "[encoded data removed]",
      "text/plain": [
       "<Figure size 1440x360 with 1 Axes>"
      ]
     },
     "metadata": {
      "needs_background": "light"
     },
     "output_type": "display_data"
    }
   ],
   "source": [
    "torch_model.eval()\n",
    "i = random.randint(0, X_train.shape[0])\n",
    "example = X_train[i]\n",
    "example = torch.from_numpy(example.reshape(1, 250, 1)).type('torch.FloatTensor').cuda()\n",
    "pred = torch_model(example).detach().cpu().numpy()\n",
    "combined = np.concatenate([example[0].cpu().numpy(), y_train[i].T], axis=0).squeeze()\n",
    "combined_zeros = np.concatenate([np.zeros_like(example.cpu().squeeze()),pred.squeeze()]).squeeze()\n",
    "\n",
    "plt.plot(combined[-100:])\n",
    "plt.plot(combined_zeros[-100:])"
   ]
  },
  {
   "cell_type": "code",
   "execution_count": 673,
   "metadata": {},
   "outputs": [
    {
     "data": {
      "text/plain": [
       "torch.Size([250, 1])"
      ]
     },
     "execution_count": 673,
     "metadata": {},
     "output_type": "execute_result"
    }
   ],
   "source": [
    "example[0].shape"
   ]
  },
  {
   "cell_type": "code",
   "execution_count": 183,
   "metadata": {},
   "outputs": [
    {
     "data": {
      "text/plain": [
       "(1, 10)"
      ]
     },
     "execution_count": 183,
     "metadata": {},
     "output_type": "execute_result"
    }
   ],
   "source": [
    "y_train[1].shape"
   ]
  },
  {
   "cell_type": "markdown",
   "metadata": {},
   "source": [
    "#### Keras Model"
   ]
  },
  {
   "cell_type": "code",
   "execution_count": 96,
   "metadata": {},
   "outputs": [],
   "source": [
    "import tensorflow"
   ]
  },
  {
   "cell_type": "code",
   "execution_count": 97,
   "metadata": {},
   "outputs": [
    {
     "name": "stderr",
     "output_type": "stream",
     "text": [
      "Using TensorFlow backend.\n"
     ]
    }
   ],
   "source": [
    "from keras.models import Sequential, load_model\n",
    "from keras.callbacks import History, EarlyStopping, Callback\n",
    "from keras.layers.recurrent import LSTM\n",
    "from keras.layers.core import Dense, Activation, Dropout\n",
    "import numpy as np\n",
    "import os"
   ]
  },
  {
   "cell_type": "code",
   "execution_count": 112,
   "metadata": {},
   "outputs": [],
   "source": [
    "k = 80 ** .5"
   ]
  },
  {
   "cell_type": "code",
   "execution_count": 651,
   "metadata": {},
   "outputs": [],
   "source": [
    "# initializer = tf.keras.initializers.RandomUniform(minval=-k, maxval=k)\n",
    "initializer = tf.keras.initializers.Orthogonal()"
   ]
  },
  {
   "cell_type": "code",
   "execution_count": 676,
   "metadata": {
    "scrolled": true
   },
   "outputs": [
    {
     "name": "stdout",
     "output_type": "stream",
     "text": [
      "Epoch 1/25\n",
      "588/588 [==============================] - 1s 2ms/step - loss: 0.1871\n",
      "Epoch 2/25\n",
      "588/588 [==============================] - 0s 78us/step - loss: 0.0577\n",
      "Epoch 3/25\n",
      "588/588 [==============================] - 0s 81us/step - loss: 0.0426\n",
      "Epoch 4/25\n",
      "588/588 [==============================] - 0s 85us/step - loss: 0.0389\n",
      "Epoch 5/25\n",
      "588/588 [==============================] - 0s 95us/step - loss: 0.0331\n",
      "Epoch 6/25\n",
      "588/588 [==============================] - 0s 94us/step - loss: 0.0286\n",
      "Epoch 7/25\n",
      "588/588 [==============================] - 0s 93us/step - loss: 0.0250\n",
      "Epoch 8/25\n",
      "588/588 [==============================] - 0s 96us/step - loss: 0.0226\n",
      "Epoch 9/25\n",
      "588/588 [==============================] - 0s 98us/step - loss: 0.0199\n",
      "Epoch 10/25\n",
      "588/588 [==============================] - 0s 96us/step - loss: 0.0182\n",
      "Epoch 11/25\n",
      "588/588 [==============================] - 0s 97us/step - loss: 0.0164\n",
      "Epoch 12/25\n",
      "588/588 [==============================] - 0s 96us/step - loss: 0.0166\n",
      "Epoch 13/25\n",
      "588/588 [==============================] - 0s 96us/step - loss: 0.0171\n",
      "Epoch 14/25\n",
      "588/588 [==============================] - 0s 98us/step - loss: 0.0167\n",
      "Epoch 15/25\n",
      "588/588 [==============================] - 0s 99us/step - loss: 0.0155\n",
      "Epoch 16/25\n",
      "588/588 [==============================] - 0s 93us/step - loss: 0.0171\n",
      "Epoch 17/25\n",
      "588/588 [==============================] - 0s 98us/step - loss: 0.0160\n",
      "Epoch 18/25\n",
      "588/588 [==============================] - 0s 96us/step - loss: 0.0145\n",
      "Epoch 19/25\n",
      "588/588 [==============================] - 0s 105us/step - loss: 0.0132\n",
      "Epoch 20/25\n",
      "588/588 [==============================] - 0s 98us/step - loss: 0.0135\n",
      "Epoch 21/25\n",
      "588/588 [==============================] - 0s 98us/step - loss: 0.0134\n",
      "Epoch 22/25\n",
      "588/588 [==============================] - 0s 98us/step - loss: 0.0121\n",
      "Epoch 23/25\n",
      "588/588 [==============================] - 0s 94us/step - loss: 0.0127\n",
      "Epoch 24/25\n",
      "588/588 [==============================] - 0s 99us/step - loss: 0.0123\n",
      "Epoch 25/25\n",
      "588/588 [==============================] - 0s 97us/step - loss: 0.0125\n"
     ]
    },
    {
     "data": {
      "text/plain": [
       "<keras.callbacks.callbacks.History at 0x7f9207999e48>"
      ]
     },
     "execution_count": 676,
     "metadata": {},
     "output_type": "execute_result"
    }
   ],
   "source": [
    "model = Sequential()\n",
    "\n",
    "model.add(LSTM(\n",
    "    80,\n",
    "    input_shape=(None, X_train.shape[2]),\n",
    "    return_sequences=True,)\n",
    "#     kernel_initializer=initializer,\n",
    "#     recurrent_initializer=initializer)\n",
    ")\n",
    "\n",
    "model.add(Dropout(.3))\n",
    "\n",
    "model.add(LSTM(\n",
    "    80,\n",
    "    return_sequences=False,\n",
    "    kernel_initializer=initializer,\n",
    "    recurrent_initializer=initializer)\n",
    ")\n",
    "\n",
    "model.add(Dropout(.3))\n",
    "\n",
    "model.add(Dense(10))\n",
    "model.add(Activation('linear'))\n",
    "\n",
    "model.compile(loss='mse',\n",
    "               optimizer='adam')\n",
    "\n",
    "model.fit(X_train,\n",
    "    y_train.squeeze(),\n",
    "    batch_size=64,\n",
    "    epochs=25,\n",
    "#     validation_split=.2,\n",
    ")"
   ]
  },
  {
   "cell_type": "code",
   "execution_count": 249,
   "metadata": {},
   "outputs": [
    {
     "data": {
      "text/plain": [
       "<keras.engine.sequential.Sequential at 0x7f92f07a5780>"
      ]
     },
     "execution_count": 249,
     "metadata": {},
     "output_type": "execute_result"
    }
   ],
   "source": [
    "model"
   ]
  },
  {
   "cell_type": "code",
   "execution_count": 229,
   "metadata": {},
   "outputs": [],
   "source": [
    "# model.save('../models/saved_models/kerasLSTM')"
   ]
  },
  {
   "cell_type": "code",
   "execution_count": 101,
   "metadata": {},
   "outputs": [],
   "source": [
    "import tensorflow as tf"
   ]
  },
  {
   "cell_type": "code",
   "execution_count": 103,
   "metadata": {},
   "outputs": [],
   "source": [
    "# try initializing with same variables\n",
    "# add pytest (read about it)\n",
    "# try porting to torch\n",
    "# try training keras model without fit function \n",
    "# https://stackoverflow.com/questions/56915567/keras-vs-pytorch-lstm-different-results"
   ]
  },
  {
   "cell_type": "code",
   "execution_count": 230,
   "metadata": {},
   "outputs": [
    {
     "name": "stdout",
     "output_type": "stream",
     "text": [
      "TorchLSTM(\n",
      "  (lstm1): LSTM(1, 80, batch_first=True)\n",
      "  (dropout1): Dropout(p=0.3, inplace=False)\n",
      "  (lstm2): LSTM(80, 80, batch_first=True)\n",
      "  (dropout2): Dropout(p=0.3, inplace=False)\n",
      "  (fc1): Linear(in_features=80, out_features=10, bias=True)\n",
      ")\n"
     ]
    }
   ],
   "source": [
    "print(torch_model)"
   ]
  },
  {
   "cell_type": "code",
   "execution_count": 231,
   "metadata": {},
   "outputs": [
    {
     "name": "stdout",
     "output_type": "stream",
     "text": [
      "Model: \"sequential_4\"\n",
      "_________________________________________________________________\n",
      "Layer (type)                 Output Shape              Param #   \n",
      "=================================================================\n",
      "lstm_7 (LSTM)                (None, None, 80)          105920    \n",
      "_________________________________________________________________\n",
      "dropout_7 (Dropout)          (None, None, 80)          0         \n",
      "_________________________________________________________________\n",
      "lstm_8 (LSTM)                (None, 80)                51520     \n",
      "_________________________________________________________________\n",
      "dropout_8 (Dropout)          (None, 80)                0         \n",
      "_________________________________________________________________\n",
      "dense_4 (Dense)              (None, 10)                810       \n",
      "_________________________________________________________________\n",
      "activation_4 (Activation)    (None, 10)                0         \n",
      "=================================================================\n",
      "Total params: 158,250\n",
      "Trainable params: 158,250\n",
      "Non-trainable params: 0\n",
      "_________________________________________________________________\n"
     ]
    }
   ],
   "source": [
    "model.summary()"
   ]
  },
  {
   "cell_type": "code",
   "execution_count": 725,
   "metadata": {},
   "outputs": [
    {
     "data": {
      "text/plain": [
       "[<matplotlib.lines.Line2D at 0x7f9205ab7588>]"
      ]
     },
     "execution_count": 725,
     "metadata": {},
     "output_type": "execute_result"
    },
    {
     "data": {
      "image/png": "[encoded data removed]",
      "text/plain": [
       "<Figure size 1440x360 with 1 Axes>"
      ]
     },
     "metadata": {
      "needs_background": "light"
     },
     "output_type": "display_data"
    }
   ],
   "source": [
    "i = random.randint(0, X_train.shape[0])\n",
    "example = X_train[i]\n",
    "pred = model.predict(example.reshape(1,1,-1))\n",
    "combined = np.concatenate([example,y_train[i]], axis=1).squeeze()\n",
    "combined_zeros = np.concatenate([np.zeros_like(example),pred], axis=1).squeeze()\n",
    "\n",
    "plt.plot(combined[-100:])\n",
    "plt.plot(combined_zeros[-100:])"
   ]
  },
  {
   "cell_type": "code",
   "execution_count": null,
   "metadata": {},
   "outputs": [],
   "source": [
    "torch_model.eval()\n",
    "i = random.randint(0, X_train.shape[0])\n",
    "example = X_train[i]\n",
    "example = torch.from_numpy(example.reshape(1, 250, 1)).type('torch.FloatTensor')\n",
    "pred = torch_model(example).detach().numpy()\n",
    "combined = np.concatenate([example[0].numpy(), y_train[i].T], axis=0).squeeze()\n",
    "combined_zeros = np.concatenate([np.zeros_like(example),pred], axis=1).squeeze()\n",
    "\n",
    "plt.plot(combined[-50:])\n",
    "plt.plot(combined_zeros[-50:])"
   ]
  },
  {
   "cell_type": "code",
   "execution_count": null,
   "metadata": {},
   "outputs": [],
   "source": []
  },
  {
   "cell_type": "code",
   "execution_count": null,
   "metadata": {},
   "outputs": [],
   "source": []
  },
  {
   "cell_type": "code",
   "execution_count": null,
   "metadata": {},
   "outputs": [],
   "source": []
  },
  {
   "cell_type": "code",
   "execution_count": null,
   "metadata": {},
   "outputs": [],
   "source": []
  },
  {
   "cell_type": "code",
   "execution_count": null,
   "metadata": {},
   "outputs": [],
   "source": []
  },
  {
   "cell_type": "code",
   "execution_count": 13,
   "metadata": {},
   "outputs": [],
   "source": [
    "import torch\n",
    "from torch.utils.data import Dataset\n",
    "from dynaconf import settings\n",
    "import pandas as pd\n",
    "from progress.bar import ChargingBar\n",
    "import multiprocessing as mp\n",
    "\n",
    "import h5py\n",
    "import pandas as pd\n",
    "import torch\n",
    "\n",
    "def load_eeg_file(filename):\n",
    "    hdf = h5py.File(filename, \"r\")\n",
    "    rec = hdf[\"record-0\"]\n",
    "    signals = rec[\"signals\"]\n",
    "    specs = {\n",
    "        \"sample_frequency\": rec.attrs[\"sample_frequency\"],\n",
    "        \"number_channels\": rec.attrs[\"number_channels\"]\n",
    "    }\n",
    "    return signals, specs\n",
    "\n",
    "def get_recordings_df(csv_file, max_num_examples, print_results_info=True):\n",
    "        recordings_df = pd.read_csv(csv_file)\n",
    "        if print_results_info:\n",
    "            print(f\"Found {len(recordings_df)} recordings\")\n",
    "\n",
    "        if max_num_examples is not None:\n",
    "            recordings_df = recordings_df[:max_num_examples]\n",
    "            if print_results_info:\n",
    "                print(f\"By set limit only using {len(recordings_df)} recordings\")\n",
    "        \n",
    "        return recordings_df\n",
    "    \n",
    "def normalize(x):\n",
    "    x_range = x.max()-x.min()\n",
    "    if x_range == 0:\n",
    "        return torch.zeros_like(x)\n",
    "    return (x-x.min())/x_range\n",
    "\n",
    "\n",
    "class EEGDataset(Dataset):\n",
    "\n",
    "    def __init__(self, csv_file, length, select_channels, max_num_examples=None, root_dir=None, transform=None, remove_short_recordings=True, filter_freq=False):\n",
    "\n",
    "        if root_dir is None:\n",
    "            self.root_dir = settings.DATASET_DIR\n",
    "        else:\n",
    "            self.root_dir = root_dir\n",
    "\n",
    "        self.recordings_df = get_recordings_df(csv_file, max_num_examples)\n",
    "        self.length = length\n",
    "        self.select_channels = select_channels\n",
    "        self.transform = transform\n",
    "        self.filter_freq = filter_freq\n",
    "\n",
    "        if remove_short_recordings:\n",
    "            self.remove_recordings_too_short()\n",
    "\n",
    "    def __len__(self):\n",
    "        return len(self.recordings_df)\n",
    "\n",
    "    def __getitem__(self, idx):\n",
    "        filename, start_pos = self.recordings_df.iloc[idx, :2]\n",
    "        signals, _  = load_eeg_file(filename)\n",
    "\n",
    "        # only keep selected channels\n",
    "        signals = signals[self.select_channels]\n",
    "        # only output selected portion\n",
    "        signals = signals[:, start_pos: start_pos + self.length]\n",
    "        \n",
    "#         if self.filter_freq:\n",
    "#             signals = butter_lowpass_filter2(signals, cutoff=settings.LOW_PASS_FILTER_CUTOFF, fs=settings.FREQUENCY).copy()\n",
    "\n",
    "        signals = torch.from_numpy(signals).type('torch.FloatTensor')\n",
    "        if self.transform:\n",
    "            signals = self.transform(signals)\n",
    "\n",
    "        return signals\n",
    "\n",
    "    def recording_is_sufficient_length(self, idx):\n",
    "        # returns idx if insufficient otherwise None\n",
    "        cur_recording = self.__getitem__(idx)\n",
    "        if cur_recording.shape[1] != self.length:\n",
    "            return idx\n",
    "        return None\n",
    "    \n",
    "    def remove_recordings_too_short(self):\n",
    "\n",
    "        print(\"Removing recordings of insufficient length...\")\n",
    "        original_len = self.__len__()\n",
    "\n",
    "        pool = mp.Pool(mp.cpu_count())\n",
    "        remove_indices = pool.map(self.recording_is_sufficient_length, list(range(original_len)))\n",
    "        remove_indices = [i for i in remove_indices if i is not None] # remove all nones\n",
    "\n",
    "        self.recordings_df = self.recordings_df.drop(remove_indices)\n",
    "        print(f\"Removed {len(remove_indices)} of {original_len} recordings. There are now {self.__len__()} recordings.\")\n"
   ]
  },
  {
   "cell_type": "code",
   "execution_count": null,
   "metadata": {},
   "outputs": [],
   "source": []
  },
  {
   "cell_type": "code",
   "execution_count": null,
   "metadata": {},
   "outputs": [],
   "source": []
  },
  {
   "cell_type": "code",
   "execution_count": null,
   "metadata": {},
   "outputs": [],
   "source": []
  },
  {
   "cell_type": "code",
   "execution_count": null,
   "metadata": {},
   "outputs": [],
   "source": []
  },
  {
   "cell_type": "code",
   "execution_count": null,
   "metadata": {},
   "outputs": [],
   "source": []
  },
  {
   "cell_type": "code",
   "execution_count": null,
   "metadata": {},
   "outputs": [],
   "source": []
  },
  {
   "cell_type": "code",
   "execution_count": null,
   "metadata": {},
   "outputs": [],
   "source": []
  },
  {
   "cell_type": "code",
   "execution_count": null,
   "metadata": {},
   "outputs": [],
   "source": []
  }
 ],
 "metadata": {
  "kernelspec": {
   "display_name": "Python [conda env:mne-5]",
   "language": "python",
   "name": "conda-env-mne-5-py"
  },
  "language_info": {
   "codemirror_mode": {
    "name": "ipython",
    "version": 3
   },
   "file_extension": ".py",
   "mimetype": "text/x-python",
   "name": "python",
   "nbconvert_exporter": "python",
   "pygments_lexer": "ipython3",
   "version": "3.6.8"
  }
 },
 "nbformat": 4,
 "nbformat_minor": 4
}
